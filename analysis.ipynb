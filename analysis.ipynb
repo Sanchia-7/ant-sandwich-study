{
 "cells": [
  {
   "cell_type": "markdown",
   "id": "f1a06d86",
   "metadata": {},
   "source": [
    "Data Preprocessing"
   ]
  },
  {
   "cell_type": "code",
   "execution_count": 1,
   "id": "4cb83ab4",
   "metadata": {},
   "outputs": [
    {
     "name": "stdout",
     "output_type": "stream",
     "text": [
      "<class 'pandas.core.frame.DataFrame'>\n",
      "RangeIndex: 48 entries, 0 to 47\n",
      "Data columns (total 4 columns):\n",
      " #   Column    Non-Null Count  Dtype \n",
      "---  ------    --------------  ----- \n",
      " 0   antCount  48 non-null     int64 \n",
      " 1   bread     48 non-null     object\n",
      " 2   topping   48 non-null     object\n",
      " 3   butter    48 non-null     object\n",
      "dtypes: int64(1), object(3)\n",
      "memory usage: 1.6+ KB\n",
      "None\n",
      "\n",
      "Missing values in each column:\n",
      "antCount    0\n",
      "bread       0\n",
      "topping     0\n",
      "butter      0\n",
      "dtype: int64\n",
      "\n",
      "Bread types:\n",
      "bread\n",
      "Rye            12\n",
      "Multi Grain    12\n",
      "White          12\n",
      "Whole Grain    12\n",
      "Name: count, dtype: int64\n",
      "\n",
      "Toppings:\n",
      "topping\n",
      "Ham and gherkins    16\n",
      "Peanut butter       16\n",
      "Yeast spread        16\n",
      "Name: count, dtype: int64\n",
      "\n",
      "Butter presence:\n",
      "butter\n",
      "no     24\n",
      "yes    24\n",
      "Name: count, dtype: int64\n"
     ]
    }
   ],
   "source": [
    "import pandas as pd\n",
    "import numpy as np\n",
    "import seaborn as sns\n",
    "import matplotlib.pyplot as plt\n",
    "from statsmodels.formula.api import ols\n",
    "from statsmodels.stats.anova import anova_lm\n",
    "from statsmodels.stats.multicomp import pairwise_tukeyhsd\n",
    "\n",
    "# Load the dataset from CSV\n",
    "data = pd.read_csv('sandwich.csv')\n",
    "\n",
    "# Check structure and types\n",
    "print(data.info())\n",
    "\n",
    "# Check for missing values\n",
    "print(\"\\nMissing values in each column:\")\n",
    "print(data.isnull().sum())\n",
    "\n",
    "# Confirm levels of categorical variables\n",
    "print(\"\\nBread types:\")\n",
    "print(data['bread'].value_counts())\n",
    "print(\"\\nToppings:\")\n",
    "print(data['topping'].value_counts())\n",
    "print(\"\\nButter presence:\")\n",
    "print(data['butter'].value_counts())\n",
    "\n",
    "# Convert to categorical\n",
    "data['bread'] = data['bread'].astype('category')\n",
    "data['topping'] = data['topping'].astype('category')\n",
    "data['butter'] = data['butter'].astype('category')\n"
   ]
  },
  {
   "cell_type": "code",
   "execution_count": 2,
   "id": "b5dd5243",
   "metadata": {},
   "outputs": [
    {
     "name": "stderr",
     "output_type": "stream",
     "text": [
      "C:\\Users\\dell\\AppData\\Local\\Temp\\ipykernel_16432\\3153926115.py:2: FutureWarning: The default of observed=False is deprecated and will be changed to True in a future version of pandas. Pass observed=False to retain current behavior or observed=True to adopt the future default and silence this warning.\n",
      "  bread_summary = data.groupby('bread')['antCount'].agg(['mean', 'median', 'std', 'min', 'max']).round(2)\n",
      "C:\\Users\\dell\\AppData\\Local\\Temp\\ipykernel_16432\\3153926115.py:6: FutureWarning: The default of observed=False is deprecated and will be changed to True in a future version of pandas. Pass observed=False to retain current behavior or observed=True to adopt the future default and silence this warning.\n",
      "  topping_summary = data.groupby('topping')['antCount'].agg(['mean', 'median', 'std', 'min', 'max']).round(2)\n",
      "C:\\Users\\dell\\AppData\\Local\\Temp\\ipykernel_16432\\3153926115.py:10: FutureWarning: The default of observed=False is deprecated and will be changed to True in a future version of pandas. Pass observed=False to retain current behavior or observed=True to adopt the future default and silence this warning.\n",
      "  butter_summary = data.groupby('butter')['antCount'].agg(['mean', 'median', 'std', 'min', 'max']).round(2)\n",
      "C:\\Users\\dell\\AppData\\Local\\Temp\\ipykernel_16432\\3153926115.py:14: FutureWarning: The default of observed=False is deprecated and will be changed to True in a future version of pandas. Pass observed=False to retain current behavior or observed=True to adopt the future default and silence this warning.\n",
      "  bread_topping_summary = data.groupby(['bread', 'topping'])['antCount'].agg(['mean', 'median', 'std', 'min', 'max']).round(2)\n"
     ]
    },
    {
     "name": "stdout",
     "output_type": "stream",
     "text": [
      "By Bread Type:\n",
      "               mean  median    std  min  max\n",
      "bread                                      \n",
      "Multi Grain  43.00    40.0  18.23   19   76\n",
      "Rye          44.25    42.0  13.40   21   65\n",
      "White        42.25    44.5  15.86   18   67\n",
      "Whole Grain  44.50    48.0  14.61   21   66\n",
      "By Topping:\n",
      "                    mean  median    std  min  max\n",
      "topping                                         \n",
      "Ham and gherkins  55.50    58.5  12.06   34   76\n",
      "Peanut butter     40.38    44.5  14.18   19   60\n",
      "Yeast spread      34.62    34.5  11.16   18   57\n",
      "By Butter:\n",
      "          mean  median    std  min  max\n",
      "butter                                \n",
      "no      38.12    37.0  14.07   18   65\n",
      "yes     48.88    49.0  14.51   22   76\n",
      "By Bread and Topping:\n",
      "                                mean  median    std  min  max\n",
      "bread       topping                                         \n",
      "Multi Grain Ham and gherkins  58.50    61.0  16.66   36   76\n",
      "            Peanut butter     37.00    34.5  19.82   19   60\n",
      "            Yeast spread      33.50    33.0   7.72   26   42\n",
      "Rye         Ham and gherkins  49.50    49.5  14.43   34   65\n",
      "            Peanut butter     46.00    44.5   9.76   36   59\n",
      "            Yeast spread      37.25    35.5  15.76   21   57\n",
      "White       Ham and gherkins  57.50    59.5  10.66   44   67\n",
      "            Peanut butter     40.25    42.0  10.78   27   50\n",
      "            Yeast spread      29.00    26.5  11.97   18   45\n",
      "Whole Grain Ham and gherkins  56.50    56.0   7.77   48   66\n",
      "            Peanut butter     38.25    37.5  18.39   21   57\n",
      "            Yeast spread      38.75    41.0   9.78   25   48\n"
     ]
    }
   ],
   "source": [
    "# Summary statistics by bread\n",
    "bread_summary = data.groupby('bread')['antCount'].agg(['mean', 'median', 'std', 'min', 'max']).round(2)\n",
    "print(\"By Bread Type:\\n\", bread_summary)\n",
    "\n",
    "# Summary statistics by topping\n",
    "topping_summary = data.groupby('topping')['antCount'].agg(['mean', 'median', 'std', 'min', 'max']).round(2)\n",
    "print(\"By Topping:\\n\", topping_summary)\n",
    "\n",
    "# Summary statistics by butter\n",
    "butter_summary = data.groupby('butter')['antCount'].agg(['mean', 'median', 'std', 'min', 'max']).round(2)\n",
    "print(\"By Butter:\\n\", butter_summary)\n",
    "\n",
    "# Summary statistics by bread and topping\n",
    "bread_topping_summary = data.groupby(['bread', 'topping'])['antCount'].agg(['mean', 'median', 'std', 'min', 'max']).round(2)\n",
    "print(\"By Bread and Topping:\\n\", bread_topping_summary)"
   ]
  },
  {
   "cell_type": "code",
   "execution_count": 3,
   "id": "5434f1e1",
   "metadata": {},
   "outputs": [
    {
     "data": {
      "image/png": "[encoded data removed]",
      "text/plain": [
       "<Figure size 1000x600 with 1 Axes>"
      ]
     },
     "metadata": {},
     "output_type": "display_data"
    }
   ],
   "source": [
    "# Bar plot for mean ant counts by bread and topping\n",
    "plt.figure(figsize=(10, 6))\n",
    "sns.barplot(x='bread', y='antCount', hue='topping', data=data, errorbar=None)\n",
    "plt.title('Mean Ant Attraction by Bread Type and Topping')\n",
    "plt.xlabel('Bread Type')\n",
    "plt.ylabel('Mean Number of Ants Attracted')\n",
    "plt.legend(title='Topping')\n",
    "plt.xticks(rotation=45)\n",
    "plt.tight_layout()\n",
    "plt.savefig('barplot.png', dpi=300)  # Save for report\n",
    "plt.show()"
   ]
  },
  {
   "cell_type": "markdown",
   "id": "3aa9625f",
   "metadata": {},
   "source": [
    "Hypothesis testing"
   ]
  },
  {
   "cell_type": "code",
   "execution_count": 9,
   "id": "bdcba217",
   "metadata": {},
   "outputs": [
    {
     "name": "stdout",
     "output_type": "stream",
     "text": [
      "ANOVA Table:\n",
      "                                 sum_sq    df          F    PR(>F)\n",
      "C(bread)                         40.50   3.0   0.142043  0.933761\n",
      "C(topping)                     3720.50   2.0  19.572994  0.000009\n",
      "C(butter)                      1386.75   1.0  14.590969  0.000830\n",
      "C(bread):C(topping)             577.00   6.0   1.011837  0.440987\n",
      "C(bread):C(butter)              378.75   3.0   1.328365  0.288413\n",
      "C(topping):C(butter)             56.00   2.0   0.294608  0.747479\n",
      "C(bread):C(topping):C(butter)  2345.50   6.0   4.113108  0.005597\n",
      "Residual                       2281.00  24.0        NaN       NaN\n",
      "Shapiro-Wilk Test for Normality: W=0.990, p=0.943\n",
      "Levene's Test for Homogeneity:\n",
      "           W  pval  equal_var\n",
      "levene  inf   0.0      False\n"
     ]
    },
    {
     "name": "stderr",
     "output_type": "stream",
     "text": [
      "C:\\Users\\dell\\AppData\\Roaming\\Python\\Python312\\site-packages\\scipy\\stats\\_morestats.py:3361: RuntimeWarning: divide by zero encountered in scalar divide\n",
      "  W = numer / denom\n"
     ]
    },
    {
     "name": "stdout",
     "output_type": "stream",
     "text": [
      "Tukey HSD for Topping:\n",
      "          Multiple Comparison of Means - Tukey HSD, FWER=0.05         \n",
      "=====================================================================\n",
      "     group1          group2    meandiff p-adj   lower   upper  reject\n",
      "---------------------------------------------------------------------\n",
      "Ham and gherkins Peanut butter  -15.125 0.0038 -25.862  -4.388   True\n",
      "Ham and gherkins  Yeast spread  -20.875 0.0001 -31.612 -10.138   True\n",
      "   Peanut butter  Yeast spread    -5.75 0.4037 -16.487   4.987  False\n",
      "---------------------------------------------------------------------\n",
      "Tukey HSD for Bread:\n",
      "       Multiple Comparison of Means - Tukey HSD, FWER=0.05      \n",
      "===============================================================\n",
      "   group1      group2   meandiff p-adj   lower    upper  reject\n",
      "---------------------------------------------------------------\n",
      "Multi Grain         Rye     1.25 0.9973 -15.7843 18.2843  False\n",
      "Multi Grain       White    -0.75 0.9994 -17.7843 16.2843  False\n",
      "Multi Grain Whole Grain      1.5 0.9954 -15.5343 18.5343  False\n",
      "        Rye       White     -2.0 0.9892 -19.0343 15.0343  False\n",
      "        Rye Whole Grain     0.25    1.0 -16.7843 17.2843  False\n",
      "      White Whole Grain     2.25 0.9848 -14.7843 19.2843  False\n",
      "---------------------------------------------------------------\n"
     ]
    }
   ],
   "source": [
    "from scipy.stats import shapiro\n",
    "import pingouin as pg\n",
    "# Three-way ANOVA\n",
    "model = ols('antCount ~ C(bread) * C(topping) * C(butter)', data=data).fit()\n",
    "anova_table = anova_lm(model, typ=2)\n",
    "print(\"ANOVA Table:\\n\", anova_table)\n",
    "\n",
    "# Check assumptions\n",
    "# Normality: Shapiro-Wilk test on residuals\n",
    "residuals = model.resid\n",
    "shapiro_test = shapiro(residuals)\n",
    "print(\"Shapiro-Wilk Test for Normality: W=%.3f, p=%.3f\" % shapiro_test)\n",
    "\n",
    "# Homogeneity: Levene's test (using the new 'group' column)\n",
    "# Create a 'group' column combining all categorical factors\n",
    "data['group'] = data['bread'].astype(str) + \"_\" + data['topping'].astype(str) + \"_\" + data['butter'].astype(str)\n",
    "\n",
    "# Now run Levene's Test\n",
    "levene_test = pg.homoscedasticity(data, dv='antCount', group='group')\n",
    "print(\"Levene's Test for Homogeneity:\\n\", levene_test)\n",
    "\n",
    "# Post-hoc tests for topping\n",
    "tukey_topping = pairwise_tukeyhsd(endog=data['antCount'], groups=data['topping'], alpha=0.05)\n",
    "print(\"Tukey HSD for Topping:\\n\", tukey_topping)\n",
    "\n",
    "# Post-hoc for bread (optional)\n",
    "tukey_bread = pairwise_tukeyhsd(endog=data['antCount'], groups=data['bread'], alpha=0.05)\n",
    "print(\"Tukey HSD for Bread:\\n\", tukey_bread)"
   ]
  },
  {
   "cell_type": "code",
   "execution_count": null,
   "id": "1a385050",
   "metadata": {},
   "outputs": [],
   "source": []
  }
 ],
 "metadata": {
  "kernelspec": {
   "display_name": "Python 3",
   "language": "python",
   "name": "python3"
  },
  "language_info": {
   "codemirror_mode": {
    "name": "ipython",
    "version": 3
   },
   "file_extension": ".py",
   "mimetype": "text/x-python",
   "name": "python",
   "nbconvert_exporter": "python",
   "pygments_lexer": "ipython3",
   "version": "3.12.4"
  }
 },
 "nbformat": 4,
 "nbformat_minor": 5
}
